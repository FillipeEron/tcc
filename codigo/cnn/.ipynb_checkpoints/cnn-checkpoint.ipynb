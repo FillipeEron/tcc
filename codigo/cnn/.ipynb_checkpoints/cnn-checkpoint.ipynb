{
 "cells": [
  {
   "cell_type": "code",
   "execution_count": 1,
   "metadata": {},
   "outputs": [],
   "source": [
    "# Esquema de estrutura da rede convolucional\n",
    "\n",
    "# Uso de Batch-Normalization\n",
    "# dropout (afterconvolutional layers)\n",
    "# Camadas\n",
    "\n",
    "# 1º - 3x3 conv, 64, relu\n",
    "# xº - BatchNormalization\n",
    "# yº - dropout 0.3\n",
    "# 2º - 3x3 conv, 64, relu\n",
    "# xº - BatchNormalization\n",
    "# 3º - 2x2 maxPooling\n",
    "# yº - dropout 0.3\n",
    "\n",
    "# 4º - 3x3 conv, 128, relu\n",
    "# xº - BatchNormalization\n",
    "# yº - dropout 0.3\n",
    "# 5º - 3x3 conv, 128, relu\n",
    "# xº - BatchNormalization\n",
    "# 6º - 2x2 maxPooling\n",
    "# yº - dropout 0.3\n",
    "\n",
    "# 7º - 3x3 conv, 256, relu\n",
    "# xº - BatchNormalization\n",
    "# yº - dropout 0.4\n",
    "# 8º - 3x3 conv, 256, relu\n",
    "# xº - BatchNormalization\n",
    "# yº - dropout 0.4\n",
    "# 9º - 3x3 conv, 256, relu\n",
    "# xº - BatchNormalization\n",
    "# 10º - 2x maxPooling\n",
    "# yº - dropout 0.4\n",
    "\n",
    "# 11º - 3x3 conv, 512, relu\n",
    "# xº - BatchNormalization\n",
    "# yº - dropout 0.4\n",
    "# 12º - 3x3 conv, 512, relu\n",
    "# xº - BatchNormalization\n",
    "# 13º - 2x2 maxPooling\n",
    "# yº - dropout 0.4\n",
    "\n",
    "# 14º - 3x3 conv, 512, relu\n",
    "# xº - BatchNormalization\n",
    "# yº - dropout 0.5\n",
    "\n",
    "# Global Avarage Pooling\n",
    "\n",
    "#\n",
    "\n",
    "# Softmax"
   ]
  }
 ],
 "metadata": {
  "kernelspec": {
   "display_name": "Python 3",
   "language": "python",
   "name": "python3"
  },
  "language_info": {
   "codemirror_mode": {
    "name": "ipython",
    "version": 3
   },
   "file_extension": ".py",
   "mimetype": "text/x-python",
   "name": "python",
   "nbconvert_exporter": "python",
   "pygments_lexer": "ipython3",
   "version": "3.6.9"
  }
 },
 "nbformat": 4,
 "nbformat_minor": 4
}
