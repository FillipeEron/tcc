{
 "cells": [
  {
   "cell_type": "code",
   "execution_count": 1,
   "metadata": {},
   "outputs": [],
   "source": [
    "from PIL import Image, ImageDraw, ImageFilter\n",
    "import numpy as np\n",
    "from matplotlib.pyplot import imshow\n",
    "import cv2\n",
    "import os\n",
    "import pathlib\n",
    "from constantes import *\n",
    "from datasetBruto import *\n",
    "from imagem import *\n",
    "from nomeArquivo import *\n",
    "from pigmentacao import *"
   ]
  },
  {
   "cell_type": "code",
   "execution_count": 2,
   "metadata": {},
   "outputs": [],
   "source": [
    "datasetBruto = DatasetBruto()\n",
    "imagem = Imagem(datasetBruto.pegarImagemDataset(\"skin-1-1.jpg\"))\n",
    "pigmentacao = Pigmentacao(imagem)"
   ]
  },
  {
   "cell_type": "code",
   "execution_count": 3,
   "metadata": {},
   "outputs": [
    {
     "data": {
      "image/png": "[encoded data removed]",
      "text/plain": [
       "<Figure size 432x288 with 1 Axes>"
      ]
     },
     "metadata": {
      "needs_background": "light"
     },
     "output_type": "display_data"
    }
   ],
   "source": [
    "pigmentacao.aplicacaoAleatoria(30)\n",
    "#pigmentacao.moldeCircular(1)\n",
    "pigmentacao.moldeQuadratico()\n",
    "pigmentacao.tipoVermelhoVariavel(0.1, 0.5)\n",
    "pigmentacao.iniciarPigmentacao()\n",
    "imagem.imprimirImagem()\n",
    "imagem.salvarImagemFormatoPNG(CAMINHO_ABSOLUTO_DATASET)"
   ]
  },
  {
   "cell_type": "code",
   "execution_count": 4,
   "metadata": {},
   "outputs": [],
   "source": [
    "#print(pigmentacao.pegarPontosCentrais())"
   ]
  },
  {
   "cell_type": "code",
   "execution_count": 5,
   "metadata": {},
   "outputs": [],
   "source": [
    "#print(pigmentacao.pegarPontosSecundarios())"
   ]
  },
  {
   "cell_type": "code",
   "execution_count": 6,
   "metadata": {},
   "outputs": [],
   "source": [
    "#print(pigmentacao.pegarPontosTotais())"
   ]
  }
 ],
 "metadata": {
  "kernelspec": {
   "display_name": "Python 3",
   "language": "python",
   "name": "python3"
  },
  "language_info": {
   "codemirror_mode": {
    "name": "ipython",
    "version": 3
   },
   "file_extension": ".py",
   "mimetype": "text/x-python",
   "name": "python",
   "nbconvert_exporter": "python",
   "pygments_lexer": "ipython3",
   "version": "3.6.9"
  }
 },
 "nbformat": 4,
 "nbformat_minor": 4
}
