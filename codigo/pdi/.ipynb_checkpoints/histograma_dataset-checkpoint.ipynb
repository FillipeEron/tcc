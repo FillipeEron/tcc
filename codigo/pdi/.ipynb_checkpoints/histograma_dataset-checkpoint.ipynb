{
 "cells": [
  {
   "cell_type": "code",
   "execution_count": null,
   "metadata": {},
   "outputs": [],
   "source": [
    "from datasetBruto import *\n",
    "from fabricarDataset import *\n",
    "from grupoDeDados import *\n",
    "from random import randint\n",
    "from histoEquaDataset import *"
   ]
  },
  {
   "cell_type": "code",
   "execution_count": null,
   "metadata": {},
   "outputs": [],
   "source": [
    "dataset = Dataset(CAMINHO_ABSOLUTO_DATASET + '/17_11_2020-9:3:36')\n",
    "histEquaDataset = HistogramaEqualizationDataset(dataset)\n",
    "histEquaDataset.aplicarHistogramaTreinoPositivo()\n",
    "histEquaDataset.aplicarHistogramaTreinoNegativo()\n",
    "histEquaDataset.aplicarHistogramaValidacaoPositivo()\n",
    "histEquaDataset.aplicarHistogramaValidacaoNegativo()"
   ]
  }
 ],
 "metadata": {
  "kernelspec": {
   "display_name": "Python 3",
   "language": "python",
   "name": "python3"
  },
  "language_info": {
   "codemirror_mode": {
    "name": "ipython",
    "version": 3
   },
   "file_extension": ".py",
   "mimetype": "text/x-python",
   "name": "python",
   "nbconvert_exporter": "python",
   "pygments_lexer": "ipython3",
   "version": "3.6.9"
  }
 },
 "nbformat": 4,
 "nbformat_minor": 4
}
