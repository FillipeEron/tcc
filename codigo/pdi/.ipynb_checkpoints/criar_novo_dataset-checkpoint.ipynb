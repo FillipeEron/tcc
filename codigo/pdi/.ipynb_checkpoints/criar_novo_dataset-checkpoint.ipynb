{
 "cells": [
  {
   "cell_type": "code",
   "execution_count": 1,
   "metadata": {},
   "outputs": [],
   "source": [
    "from datasetBruto import *\n",
    "from fabricarDataset import *\n",
    "from grupoDeDados import *"
   ]
  },
  {
   "cell_type": "code",
   "execution_count": 2,
   "metadata": {},
   "outputs": [],
   "source": [
    "# Criar e organizar os dados a partir do dataset original \n",
    "datasetBruto = DatasetBruto()\n",
    "fabricarDataset = FabricarDataset(datasetBruto, CAMINHO_ABSOLUTO_DATASET)\n",
    "fabricarDataset.criarEstrutura()\n",
    "fabricarDataset.dividirTreinoEValidacao(0.5, 'ordenado')\n",
    "fabricarDataset.dividirTreinoPositivoENegativo(0.5)\n",
    "fabricarDataset.dividirValidacaoPositivoENegativo(0.7)"
   ]
  },
  {
   "cell_type": "code",
   "execution_count": 3,
   "metadata": {},
   "outputs": [],
   "source": [
    "# Aplicar a pigmentação nas imagens positivas e formatar as imagens negativas para png\n",
    "grupoDeDados = GrupoDeDados(fabricarDataset.pegarNovoDataset())\n",
    "grupoDeDados.aplicarPigmentacaoTreinoPositivo()\n",
    "grupoDeDados.aplicarPigmentacaoValidacaoPositivo()\n",
    "grupoDeDados.mudarParaFormatoPNGTreinoNegativo()\n",
    "grupoDeDados.mudarParaFormatoPNGValidacaoNegativo()"
   ]
  }
 ],
 "metadata": {
  "kernelspec": {
   "display_name": "Python 3",
   "language": "python",
   "name": "python3"
  },
  "language_info": {
   "codemirror_mode": {
    "name": "ipython",
    "version": 3
   },
   "file_extension": ".py",
   "mimetype": "text/x-python",
   "name": "python",
   "nbconvert_exporter": "python",
   "pygments_lexer": "ipython3",
   "version": "3.6.9"
  }
 },
 "nbformat": 4,
 "nbformat_minor": 4
}
